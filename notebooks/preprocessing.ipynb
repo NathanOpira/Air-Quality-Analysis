{
 "cells": [
  {
   "cell_type": "code",
   "execution_count": 2,
   "id": "eab673fc",
   "metadata": {},
   "outputs": [
    {
     "name": "stdout",
     "output_type": "stream",
     "text": [
      "Remaining missing values per column after imputation:\n",
      "CO(GT)           0\n",
      "PT08.S1(CO)      0\n",
      "NMHC(GT)         0\n",
      "C6H6(GT)         0\n",
      "PT08.S2(NMHC)    0\n",
      "NOx(GT)          0\n",
      "PT08.S3(NOx)     0\n",
      "NO2(GT)          0\n",
      "PT08.S4(NO2)     0\n",
      "PT08.S5(O3)      0\n",
      "T                0\n",
      "RH               0\n",
      "AH               0\n",
      "dtype: int64\n",
      "\n",
      "✅ Preprocessing complete. Cleaned data saved to: '../data/processed/air_quality_cleaned.csv'\n"
     ]
    }
   ],
   "source": [
    "# Imports.\n",
    "import pandas as pd\n",
    "import numpy as np\n",
    "import warnings\n",
    "warnings.filterwarnings(\"ignore\")\n",
    "\n",
    "# Loading data from EDA step.\n",
    "df = pd.read_csv('../data/raw/AirQualityUCI.csv', sep=';', decimal=',', header=0)\n",
    "\n",
    "# Dropping unnamed empty columns.\n",
    "df.dropna(axis=1, how='all', inplace=True)\n",
    "\n",
    "# Replacing -200 with NaN (as per dataset documentation)\n",
    "df.replace(-200, np.nan, inplace=True)\n",
    "\n",
    "# Converting Date and Time to a single datetime index.\n",
    "if 'Date' in df.columns and 'Time' in df.columns:\n",
    "    df['Datetime'] = pd.to_datetime(df['Date'].astype(str) + ' ' + df['Time'].astype(str), errors='coerce')\n",
    "    df.drop(columns=['Date', 'Time'], inplace=True)\n",
    "    df.set_index('Datetime', inplace=True)\n",
    "\n",
    "# Converting pollutant columns to numeric explicitly.\n",
    "for col in df.columns:\n",
    "    df[col] = pd.to_numeric(df[col], errors='coerce')\n",
    "\n",
    "# Handling missing values\n",
    "# Fill missing values using forward fill followed by backward fill as backup\n",
    "df_filled = df.fillna(method='ffill').fillna(method='bfill')\n",
    "\n",
    "# (Optional) Handle extreme outliers if necessary (commented out here)\n",
    "# from scipy.stats import zscore\n",
    "# df_filled = df_filled[(np.abs(zscore(df_filled)) < 4).all(axis=1)]\n",
    "\n",
    "# Confirm final missing values\n",
    "print(\"Remaining missing values per column after imputation:\")\n",
    "print(df_filled.isnull().sum())\n",
    "\n",
    "# Save cleaned/preprocessed data\n",
    "df_filled.to_csv('../data/processed/air_quality_cleaned.csv', index=True)\n",
    "\n",
    "print(\"\\n✅ Preprocessing complete. Cleaned data saved to: '../data/processed/air_quality_cleaned.csv'\")\n"
   ]
  }
 ],
 "metadata": {
  "kernelspec": {
   "display_name": "Python 3",
   "language": "python",
   "name": "python3"
  },
  "language_info": {
   "codemirror_mode": {
    "name": "ipython",
    "version": 3
   },
   "file_extension": ".py",
   "mimetype": "text/x-python",
   "name": "python",
   "nbconvert_exporter": "python",
   "pygments_lexer": "ipython3",
   "version": "3.12.6"
  }
 },
 "nbformat": 4,
 "nbformat_minor": 5
}
